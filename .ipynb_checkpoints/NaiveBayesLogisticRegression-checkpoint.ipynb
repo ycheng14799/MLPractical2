{
 "cells": [
  {
   "cell_type": "code",
   "execution_count": 423,
   "metadata": {},
   "outputs": [],
   "source": [
    "import numpy as np "
   ]
  },
  {
   "cell_type": "code",
   "execution_count": 501,
   "metadata": {},
   "outputs": [],
   "source": [
    "class NBC:\n",
    "    def __init__(self, feature_types, num_classes):\n",
    "        self.feature_types = feature_types \n",
    "        self.num_classes = num_classes\n",
    "    \n",
    "    def fit(self, X, y):\n",
    "        classes, classCounts = np.unique(y, return_counts=True)\n",
    "        \n",
    "        pis = np.expand_dims(classCounts / y.shape[0], axis=1)\n",
    "        \n",
    "        allMus = [] \n",
    "        allSigmaSqrs = []\n",
    "        \n",
    "        for i in range(classes.shape[0]):\n",
    "            # Get class examples  \n",
    "            classExampleIdxs = np.argwhere(y==classes[i])[:,0]\n",
    "        \n",
    "            # Calculate class parameters\n",
    "            # Empirical mean / Bernoulli distribution parameter\n",
    "            mus = np.average(X[classExampleIdxs,:], axis=0)\n",
    "            print(mus)\n",
    "            # Emperical variance \n",
    "            sigmaSqrs = np.var(X[classExampleIdxs,:], axis=0)\n",
    "            \n",
    "            allMus.append(mus)\n",
    "            allSigmaSqrs.append(sigmaSqrs)\n",
    "        \n",
    "        allMus = np.array(allMus)\n",
    "        allSigmaSqrs = np.array(allSigmaSqrs)\n",
    "        \n",
    "        self.pis = pis\n",
    "        self.mus = allMus\n",
    "        self.sigmaSqrs = allSigmaSqrs\n",
    "    \n",
    "    def calcRealProb(self, X, realIndices, clsIdx): \n",
    "        mean = self.mus[clsIdx,realIndices]\n",
    "        variances = self.sigmaSqrs[clsIdx,realIndices] \n",
    "        realXs = X[:,realIndices]\n",
    "        probs = np.exp(-np.square(realXs-mean)/(2*(variances+1e-6)))/np.sqrt(2*np.pi*(variances+1e-6))\n",
    "        return probs\n",
    "    \n",
    "    def calcCatProb(self, X, binIndices, clsIdx):\n",
    "        params = self.mus[clsIdx,binIndices]\n",
    "        binXs = X[:,binIndices]\n",
    "        probs = np.zeros_like(binXs) \n",
    "        for i in range(params.shape[0]):\n",
    "            feature = binXs[:,i]\n",
    "            featureProbs = np.zeros_like(feature)\n",
    "            featureProbs[feature == 1] = params[i]\n",
    "            featureProbs[feature == 0] = 1 - params[i]\n",
    "            probs[:,i] = featureProbs\n",
    "        return probs\n",
    "        \n",
    "    def calcClassProb(self, X, clsIdx):\n",
    "        featureTypes = self.feature_types\n",
    "        binIndices = [i for i, x in enumerate(featureTypes) if x == 'b']\n",
    "        realIndices = [i for i, x in enumerate(featureTypes) if x == 'r']\n",
    "        \n",
    "        realProbs = self.calcRealProb(X, realIndices, clsIdx)\n",
    "        catProbs = self.calcCatProb(X, binIndices, clsIdx)\n",
    "        \n",
    "        # Ensure no zeros\n",
    "        realProbs[realProbs == 0] = 1e-6\n",
    "        catProbs[catProbs == 0] = 1e-6\n",
    "        \n",
    "        print(np.log(realProbs))\n",
    "        print(np.log(catProbs))\n",
    "        "
   ]
  },
  {
   "cell_type": "code",
   "execution_count": 502,
   "metadata": {},
   "outputs": [
    {
     "name": "stdout",
     "output_type": "stream",
     "text": [
      "[[1. ]\n",
      " [0.5]\n",
      " [0. ]\n",
      " [0.5]]\n",
      "[[1. ]\n",
      " [0.5]\n",
      " [0.5]\n",
      " [0.5]]\n"
     ]
    }
   ],
   "source": [
    "nbc = NBC(feature_types=['b','r','b','r'], num_classes=2)\n",
    "nbc.fit(np.array([[[1],[0.5],[1],[0.5]],[[1],[0.5],[0],[0.5]],[[1],[0.5],[0],[0.5]]]),np.array([[2],[0],[2]]))"
   ]
  },
  {
   "cell_type": "code",
   "execution_count": 508,
   "metadata": {},
   "outputs": [
    {
     "name": "stdout",
     "output_type": "stream",
     "text": [
      "[[[5.98881675]\n",
      "  [5.98881675]]]\n",
      "[[[  0.        ]\n",
      "  [-13.81551056]]]\n"
     ]
    }
   ],
   "source": [
    "X = np.array([[[1],[0.5],[1],[0.5]]])\n",
    "nbc.calcClassProb(X, 0)"
   ]
  },
  {
   "cell_type": "code",
   "execution_count": null,
   "metadata": {},
   "outputs": [],
   "source": []
  }
 ],
 "metadata": {
  "kernelspec": {
   "display_name": "Python 3",
   "language": "python",
   "name": "python3"
  },
  "language_info": {
   "codemirror_mode": {
    "name": "ipython",
    "version": 3
   },
   "file_extension": ".py",
   "mimetype": "text/x-python",
   "name": "python",
   "nbconvert_exporter": "python",
   "pygments_lexer": "ipython3",
   "version": "3.7.4"
  }
 },
 "nbformat": 4,
 "nbformat_minor": 2
}
